{
  "nbformat": 4,
  "nbformat_minor": 0,
  "metadata": {
    "colab": {
      "provenance": [],
      "authorship_tag": "ABX9TyM+Sr7LzeTZBoiaWZe4dTA/",
      "include_colab_link": true
    },
    "kernelspec": {
      "name": "python3",
      "display_name": "Python 3"
    },
    "language_info": {
      "name": "python"
    }
  },
  "cells": [
    {
      "cell_type": "markdown",
      "metadata": {
        "id": "view-in-github",
        "colab_type": "text"
      },
      "source": [
        "<a href=\"https://colab.research.google.com/github/blueberrylazjy/pytorch/blob/main/test2.ipynb\" target=\"_parent\"><img src=\"https://colab.research.google.com/assets/colab-badge.svg\" alt=\"Open In Colab\"/></a>"
      ]
    },
    {
      "cell_type": "code",
      "execution_count": 38,
      "metadata": {
        "colab": {
          "base_uri": "https://localhost:8080/"
        },
        "id": "fy4BtBEksTGC",
        "outputId": "613d0336-bcf4-4e45-a1ff-297c39a2ad20"
      },
      "outputs": [
        {
          "output_type": "stream",
          "name": "stdout",
          "text": [
            "[0 1 2 3 4 5 6 7 8 9 0 1 2 3 4]\n",
            "[ 0.  0.  0. 12. 13.  5.  0.  0.  0.  0.  0. 11. 16.  9.  0.  0.  0.  0.\n",
            "  3. 15. 16.  6.  0.  0.  0.  7. 15. 16. 16.  2.  0.  0.  0.  0.  1. 16.\n",
            " 16.  3.  0.  0.  0.  0.  1. 16. 16.  6.  0.  0.  0.  0.  1. 16. 16.  6.\n",
            "  0.  0.  0.  0.  0. 11. 16. 10.  0.  0.]\n"
          ]
        }
      ],
      "source": [
        "import torch\n",
        "from sklearn import datasets\n",
        "from sklearn.model_selection import train_test_split\n",
        "digits_data = datasets.load_digits()\n",
        "\n",
        "\n",
        "digit_images = digits_data.data\n",
        "labels = digits_data.target\n",
        "x_train, x_test, t_train,  t_test = train_test_split(digit_images, labels)\n",
        "print(digits_data.target[:15])\n",
        "print(digits_data.data[1])\n",
        "\n",
        "x_train = torch.tensor(x_train, dtype = torch.float32)\n",
        "x_test = torch.tensor(x_test, dtype = torch.float32)\n",
        "t_train = torch.tensor(t_train, dtype = torch.int64)\n",
        "t_test = torch.tensor(t_test, dtype = torch.int64)"
      ]
    },
    {
      "cell_type": "code",
      "source": [
        "import matplotlib.pyplot as plt\n",
        "from sklearn import datasets\n",
        "\n",
        "n_img = 15\n",
        "plt.figure(figsize=(10,6))\n",
        "\n",
        "for i in range(n_img):\n",
        "  ax = plt.subplot(3,5,i+1)\n",
        "  label = digits_data.target\n",
        "  print(label)\n",
        "  ax.imshow(digit_images[i].reshape(8,8),cmap=\"Greys_r\")\n",
        "  ax.get_xaxis().set_visible(False)\n",
        "  ax.get_yaxis().set_visible(False)\n",
        "plt.show()\n",
        "\n",
        "print(\"データ形状:\", digits_data.data.shape)\n",
        "print(\"ラベル:\", digits_data.target[:n_img])\n"
      ],
      "metadata": {
        "colab": {
          "base_uri": "https://localhost:8080/",
          "height": 791
        },
        "id": "_Y6j9k40QVFF",
        "outputId": "b23f5a13-9d30-4e07-8e23-2fdeb468e70d"
      },
      "execution_count": 39,
      "outputs": [
        {
          "output_type": "stream",
          "name": "stdout",
          "text": [
            "[0 1 2 ... 8 9 8]\n",
            "[0 1 2 ... 8 9 8]\n",
            "[0 1 2 ... 8 9 8]\n",
            "[0 1 2 ... 8 9 8]\n",
            "[0 1 2 ... 8 9 8]\n",
            "[0 1 2 ... 8 9 8]\n",
            "[0 1 2 ... 8 9 8]\n",
            "[0 1 2 ... 8 9 8]\n",
            "[0 1 2 ... 8 9 8]\n",
            "[0 1 2 ... 8 9 8]\n",
            "[0 1 2 ... 8 9 8]\n",
            "[0 1 2 ... 8 9 8]\n",
            "[0 1 2 ... 8 9 8]\n",
            "[0 1 2 ... 8 9 8]\n",
            "[0 1 2 ... 8 9 8]\n"
          ]
        },
        {
          "output_type": "display_data",
          "data": {
            "text/plain": [
              "<Figure size 1000x600 with 15 Axes>"
            ],
            "image/png": "[encoded data removed]"
          },
          "metadata": {}
        },
        {
          "output_type": "stream",
          "name": "stdout",
          "text": [
            "データ形状: (1797, 64)\n",
            "ラベル: [0 1 2 3 4 5 6 7 8 9 0 1 2 3 4]\n"
          ]
        }
      ]
    },
    {
      "cell_type": "code",
      "source": [],
      "metadata": {
        "id": "JxhMwrt6NWgA"
      },
      "execution_count": null,
      "outputs": []
    },
    {
      "cell_type": "code",
      "source": [
        "from torch import nn\n",
        "net = nn.Sequential(\n",
        "    nn.Linear(64,128),\n",
        "    nn.ReLU(),\n",
        "    nn.Linear(128,64),\n",
        "    nn.ReLU(),\n",
        "    nn.Linear(64,10)\n",
        ")\n",
        "print(net)"
      ],
      "metadata": {
        "colab": {
          "base_uri": "https://localhost:8080/"
        },
        "id": "t7vmCFmNwQjU",
        "outputId": "b8dbe683-8391-4d7c-ba58-2531b06c080a"
      },
      "execution_count": 40,
      "outputs": [
        {
          "output_type": "stream",
          "name": "stdout",
          "text": [
            "Sequential(\n",
            "  (0): Linear(in_features=64, out_features=128, bias=True)\n",
            "  (1): ReLU()\n",
            "  (2): Linear(in_features=128, out_features=64, bias=True)\n",
            "  (3): ReLU()\n",
            "  (4): Linear(in_features=64, out_features=10, bias=True)\n",
            ")\n"
          ]
        }
      ]
    },
    {
      "cell_type": "code",
      "source": [
        "from torch import optim\n",
        "\n",
        "loss_fnc = nn.CrossEntropyLoss()\n",
        "\n",
        "params = net.parameters()\n",
        "optimizer = optim.Adagrad(params, lr=0.01, lr_decay=0, weight_decay=0, initial_accumulator_value=0, eps=1e-10)\n",
        "\n",
        "\n",
        "record_loss_train=[]\n",
        "record_loss_test=[]\n",
        "\n",
        "for i in range(1001):\n",
        "  \n",
        "  optimizer.zero_grad()\n",
        "\n",
        "  y_train = net(x_train)\n",
        "  y_test = net(x_test)\n",
        "\n",
        "  loss_train = loss_fnc(y_train, t_train)\n",
        "  loss_test = loss_fnc(y_test, t_test)\n",
        "  record_loss_train.append(loss_train.item())\n",
        "  record_loss_test.append(loss_test.item())\n",
        "\n",
        "  loss_train.backward()\n",
        "\n",
        "  optimizer.step()\n",
        "\n",
        "  if i%100 == 0:\n",
        "    print(\"Epoch:\",i,\"Loss_Train:\", loss_train.item(), \"Lost_test:\", loss_test.item())\n"
      ],
      "metadata": {
        "colab": {
          "base_uri": "https://localhost:8080/"
        },
        "id": "PgQk7Wsjxhbh",
        "outputId": "68949b4b-61d1-453f-d0e6-47f3960b38df"
      },
      "execution_count": 46,
      "outputs": [
        {
          "output_type": "stream",
          "name": "stdout",
          "text": [
            "Epoch: 0 Loss_Train: 2.756379581114743e-05 Lost_test: 0.10721608996391296\n",
            "Epoch: 100 Loss_Train: 0.00013732790830545127 Lost_test: 0.207186758518219\n",
            "Epoch: 200 Loss_Train: 7.75357912061736e-05 Lost_test: 0.1966424584388733\n",
            "Epoch: 300 Loss_Train: 5.5953754781512544e-05 Lost_test: 0.19059567153453827\n",
            "Epoch: 400 Loss_Train: 4.454105146578513e-05 Lost_test: 0.18637655675411224\n",
            "Epoch: 500 Loss_Train: 3.74563351215329e-05 Lost_test: 0.18315590918064117\n",
            "Epoch: 600 Loss_Train: 3.2576816010987386e-05 Lost_test: 0.1805509775876999\n",
            "Epoch: 700 Loss_Train: 2.897531885537319e-05 Lost_test: 0.17837655544281006\n",
            "Epoch: 800 Loss_Train: 2.619896076794248e-05 Lost_test: 0.17652034759521484\n",
            "Epoch: 900 Loss_Train: 2.3999014956643805e-05 Lost_test: 0.1749018132686615\n",
            "Epoch: 1000 Loss_Train: 2.2198359147296287e-05 Lost_test: 0.1734696477651596\n"
          ]
        }
      ]
    },
    {
      "cell_type": "code",
      "source": [
        "plt.plot(range(len(record_loss_train)),record_loss_train, label=\"Train\")\n",
        "plt.plot(range(len(record_loss_test)), record_loss_test, label=\"Test\")\n",
        "\n",
        "plt.legend()\n",
        "plt.xlabel(\"Epochs\")\n",
        "plt.ylabel(\"Error\")\n",
        "plt.show()"
      ],
      "metadata": {
        "id": "Hc8VtR1w2CUG",
        "colab": {
          "base_uri": "https://localhost:8080/",
          "height": 449
        },
        "outputId": "17611db4-952d-452a-d14e-35d950e6eb20"
      },
      "execution_count": 47,
      "outputs": [
        {
          "output_type": "display_data",
          "data": {
            "text/plain": [
              "<Figure size 640x480 with 1 Axes>"
            ],
            "image/png": "[encoded data removed]"
          },
          "metadata": {}
        }
      ]
    }
  ]
}