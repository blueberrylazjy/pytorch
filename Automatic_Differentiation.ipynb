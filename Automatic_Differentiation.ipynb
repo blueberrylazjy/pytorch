{
  "nbformat": 4,
  "nbformat_minor": 0,
  "metadata": {
    "colab": {
      "provenance": [],
      "authorship_tag": "ABX9TyMo02p0OCzG8Kt3myGkuGDS",
      "include_colab_link": true
    },
    "kernelspec": {
      "name": "python3",
      "display_name": "Python 3"
    },
    "language_info": {
      "name": "python"
    }
  },
  "cells": [
    {
      "cell_type": "markdown",
      "metadata": {
        "id": "view-in-github",
        "colab_type": "text"
      },
      "source": [
        "<a href=\"https://colab.research.google.com/github/blueberrylazjy/pytorch/blob/main/Automatic_Differentiation.ipynb\" target=\"_parent\"><img src=\"https://colab.research.google.com/assets/colab-badge.svg\" alt=\"Open In Colab\"/></a>"
      ]
    },
    {
      "cell_type": "code",
      "execution_count": 1,
      "metadata": {
        "colab": {
          "base_uri": "https://localhost:8080/"
        },
        "id": "fzkCdHnVUKZ8",
        "outputId": "d3798213-8b3e-471b-8982-d060590aad5c"
      },
      "outputs": [
        {
          "output_type": "stream",
          "name": "stdout",
          "text": [
            "tensor([[1., 1., 1.],\n",
            "        [1., 1., 1.]], requires_grad=True)\n"
          ]
        }
      ],
      "source": [
        "import torch\n",
        "\n",
        "x = torch.ones(2,3, requires_grad=True)\n",
        "print(x)"
      ]
    },
    {
      "cell_type": "code",
      "source": [
        "y = x+2\n",
        "print(y)\n",
        "print(y.grad_fn)"
      ],
      "metadata": {
        "colab": {
          "base_uri": "https://localhost:8080/"
        },
        "id": "ZQruTYv_VnNG",
        "outputId": "1b33dcd6-1973-47e3-ab95-1e64d67215b0"
      },
      "execution_count": 2,
      "outputs": [
        {
          "output_type": "stream",
          "name": "stdout",
          "text": [
            "tensor([[3., 3., 3.],\n",
            "        [3., 3., 3.]], grad_fn=<AddBackward0>)\n",
            "<AddBackward0 object at 0x7f3366cb2b00>\n"
          ]
        }
      ]
    },
    {
      "cell_type": "code",
      "source": [
        "z = y*3\n",
        "print(z)\n",
        "\n",
        "out = z.mean()\n",
        "print(out)"
      ],
      "metadata": {
        "colab": {
          "base_uri": "https://localhost:8080/"
        },
        "id": "oO_qI9nNV1kZ",
        "outputId": "755bd9cb-536d-43ad-ad76-1915784f018e"
      },
      "execution_count": 4,
      "outputs": [
        {
          "output_type": "stream",
          "name": "stdout",
          "text": [
            "tensor([[9., 9., 9.],\n",
            "        [9., 9., 9.]], grad_fn=<MulBackward0>)\n",
            "tensor(9., grad_fn=<MeanBackward0>)\n"
          ]
        }
      ]
    },
    {
      "cell_type": "code",
      "source": [
        "a = torch.tensor([1.0], requires_grad=True)\n",
        "b= a*2\n",
        "b.backward()\n",
        "print(a.grad)"
      ],
      "metadata": {
        "colab": {
          "base_uri": "https://localhost:8080/"
        },
        "id": "pAogDEUtWGPO",
        "outputId": "b9f09f95-f27d-45b2-f923-d9a80e491fb8"
      },
      "execution_count": 6,
      "outputs": [
        {
          "output_type": "stream",
          "name": "stdout",
          "text": [
            "tensor([2.])\n"
          ]
        }
      ]
    },
    {
      "cell_type": "code",
      "source": [
        "def calc(a):\n",
        "  b=a*2 +1\n",
        "  print(b)\n",
        "  c=b*b\n",
        "  print(c)\n",
        "  d=c/(c+2)\n",
        "  print(d)\n",
        "  e=d.mean()\n",
        "  print(e)\n",
        "  return e\n",
        "\n",
        "x=[1.0, 2.0, 3.0]\n",
        "x=torch.tensor(x, requires_grad=True)\n",
        "y= calc(x)\n",
        "y.backward()\n",
        "print(x.grad)"
      ],
      "metadata": {
        "colab": {
          "base_uri": "https://localhost:8080/"
        },
        "id": "gKltLdovXTX1",
        "outputId": "ec0a463b-1eed-46ad-da00-4923b473da2e"
      },
      "execution_count": 18,
      "outputs": [
        {
          "output_type": "stream",
          "name": "stdout",
          "text": [
            "tensor([3., 5., 7.], grad_fn=<AddBackward0>)\n",
            "tensor([ 9., 25., 49.], grad_fn=<MulBackward0>)\n",
            "tensor([0.8182, 0.9259, 0.9608], grad_fn=<DivBackward0>)\n",
            "tensor(0.9016, grad_fn=<MeanBackward0>)\n",
            "tensor([0.0661, 0.0183, 0.0072])\n"
          ]
        }
      ]
    },
    {
      "cell_type": "code",
      "source": [
        "delta=0.001\n",
        "x=[1.0, 2.0, 3.0]\n",
        "x=torch.tensor(x)\n",
        "y=calc(x)\n",
        "print(y)\n",
        "x_1=[1.0+delta, 2.0, 3.0]\n",
        "x_1=torch.tensor(x_1)\n",
        "y_1=calc(x_1)\n",
        "x_2=[1.0, 2.0+delta, 3.0]\n",
        "x_2=torch.tensor(x_2)\n",
        "y_2=calc(x_2)\n",
        "x_3=[1.0, 2.0, 3.0+delta]\n",
        "x_3=torch.tensor(x_3)\n",
        "y_3=calc(x_3)\n",
        "print(y_1)\n",
        "grad_1=(y_1-y)/delta\n",
        "print(grad_1)\n",
        "grad_2=(y_2-y)/delta\n",
        "print(grad_2)\n",
        "grad_3=(y_3-y)/delta\n",
        "\n",
        "grads=torch.stack((grad_1, grad_2, grad_3))\n",
        "# Tensorを統合\n",
        "print(grads)"
      ],
      "metadata": {
        "colab": {
          "base_uri": "https://localhost:8080/"
        },
        "id": "h_8Efy2kZHbR",
        "outputId": "7c12ea95-6c8f-44fc-f248-e6fea3dd2e1e"
      },
      "execution_count": 17,
      "outputs": [
        {
          "output_type": "stream",
          "name": "stdout",
          "text": [
            "tensor(0.9016)\n",
            "tensor(0.9017)\n",
            "tensor(0.0660)\n",
            "tensor(0.0183)\n",
            "tensor([0.0660, 0.0183, 0.0072])\n"
          ]
        }
      ]
    },
    {
      "cell_type": "code",
      "source": [],
      "metadata": {
        "id": "yiMTMVHAcisn"
      },
      "execution_count": null,
      "outputs": []
    }
  ]
}