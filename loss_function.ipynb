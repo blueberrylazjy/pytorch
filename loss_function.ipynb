{
  "nbformat": 4,
  "nbformat_minor": 0,
  "metadata": {
    "colab": {
      "provenance": [],
      "authorship_tag": "ABX9TyOQ8aXf3EZcA7GPS4ZXfVBC",
      "include_colab_link": true
    },
    "kernelspec": {
      "name": "python3",
      "display_name": "Python 3"
    },
    "language_info": {
      "name": "python"
    }
  },
  "cells": [
    {
      "cell_type": "markdown",
      "metadata": {
        "id": "view-in-github",
        "colab_type": "text"
      },
      "source": [
        "<a href=\"https://colab.research.google.com/github/blueberrylazjy/pytorch/blob/main/loss_function.ipynb\" target=\"_parent\"><img src=\"https://colab.research.google.com/assets/colab-badge.svg\" alt=\"Open In Colab\"/></a>"
      ]
    },
    {
      "cell_type": "code",
      "execution_count": null,
      "metadata": {
        "id": "iwvsYP_40cQf"
      },
      "outputs": [],
      "source": [
        "import torch\n",
        "from torch import nn\n",
        "import matplotlib.pylab as plt\n"
      ]
    },
    {
      "cell_type": "markdown",
      "source": [
        "平均二乗誤差（mean squared error）\\\n",
        "MSELoss() 関数\\\n",
        "$E$ は誤差 \\\n",
        "$n$ は出力層のニューロン数 \\\n",
        "$y_k$ は出力層の各出力値 \\\n",
        "$t_k$ は正解値\n",
        "\n",
        "$$ E = \\frac{1}{n}\\sum_{k=1}^n(y_k - t_k)^2$$"
      ],
      "metadata": {
        "id": "0OCgb4BG0-OG"
      }
    },
    {
      "cell_type": "markdown",
      "source": [
        "MSELoss()関数\n"
      ],
      "metadata": {
        "id": "cwFGLJax1__5"
      }
    },
    {
      "cell_type": "code",
      "source": [
        "y = torch.tensor([3.0,3.0,3.0,3.0,3.0])\n",
        "t = torch.tensor([2.0,2.0,2.0,2.0,2.0])\n",
        "\n",
        "loss_func = nn.MSELoss()\n",
        "loss = loss_func(y, t)\n",
        "print(loss.item())"
      ],
      "metadata": {
        "colab": {
          "base_uri": "https://localhost:8080/"
        },
        "id": "nGfZduyb1o1-",
        "outputId": "acfb6ec5-1443-4985-feda-55f2d775ca6a"
      },
      "execution_count": null,
      "outputs": [
        {
          "output_type": "stream",
          "name": "stdout",
          "text": [
            "1.0\n"
          ]
        }
      ]
    },
    {
      "cell_type": "markdown",
      "source": [
        "交差エントロピー誤差(cross-entropy loss)\n",
        "\n",
        "CrossEntropyLoss()\n",
        "\n",
        "$$ E = -\\sum_{k}^n t_k\\log(y_k) $$"
      ],
      "metadata": {
        "id": "QY4ETVrY2iBh"
      }
    },
    {
      "cell_type": "code",
      "source": [
        "x = torch.tensor([[1.0,2.0,3.0],[3.0,2.0,1.0]])\n",
        "\n",
        "t = torch.tensor([2,\n",
        "                  0])\n",
        "\n",
        "loss_func = nn.CrossEntropyLoss()\n",
        "loss = loss_func(x, t)\n",
        "print(loss.item())"
      ],
      "metadata": {
        "colab": {
          "base_uri": "https://localhost:8080/"
        },
        "id": "kXlOLNb52aEL",
        "outputId": "53ee63d8-06e3-4039-99aa-5ee06cb2b19b"
      },
      "execution_count": null,
      "outputs": [
        {
          "output_type": "stream",
          "name": "stdout",
          "text": [
            "0.40760594606399536\n"
          ]
        }
      ]
    },
    {
      "cell_type": "code",
      "source": [],
      "metadata": {
        "id": "eXMcxC323tdT"
      },
      "execution_count": null,
      "outputs": []
    }
  ]
}