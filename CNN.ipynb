{
  "nbformat": 4,
  "nbformat_minor": 0,
  "metadata": {
    "colab": {
      "provenance": [],
      "gpuType": "T4",
      "authorship_tag": "ABX9TyPmGvhAk9yIEYmgjhsyg2x0",
      "include_colab_link": true
    },
    "kernelspec": {
      "name": "python3",
      "display_name": "Python 3"
    },
    "language_info": {
      "name": "python"
    },
    "accelerator": "GPU",
    "gpuClass": "standard"
  },
  "cells": [
    {
      "cell_type": "markdown",
      "metadata": {
        "id": "view-in-github",
        "colab_type": "text"
      },
      "source": [
        "<a href=\"https://colab.research.google.com/github/blueberrylazjy/pytorch/blob/main/CNN.ipynb\" target=\"_parent\"><img src=\"https://colab.research.google.com/assets/colab-badge.svg\" alt=\"Open In Colab\"/></a>"
      ]
    },
    {
      "cell_type": "code",
      "execution_count": 14,
      "metadata": {
        "colab": {
          "base_uri": "https://localhost:8080/"
        },
        "id": "mHsXxG6aCt9S",
        "outputId": "668abcb3-b287-42de-da23-ebecb74aa445"
      },
      "outputs": [
        {
          "output_type": "stream",
          "name": "stdout",
          "text": [
            "Files already downloaded and verified\n",
            "Files already downloaded and verified\n"
          ]
        }
      ],
      "source": [
        "from torchvision.datasets import CIFAR10\n",
        "import torchvision.transforms as transforms\n",
        "import matplotlib.pyplot as plt\n",
        "from torch.utils.data import DataLoader\n",
        "\n",
        "cifar10_classes= [\"airplane\", \"automobile\", \"bird\", \"cat\",\"deer\",\"dog\", \"frog\",\"horse\", \"ship\",\"truck\"]\n",
        "affine = transforms.RandomAffine((-30,30),scale=(0.8, 1.2))\n",
        "\n",
        "flip = transforms.RandomHorizontalFlip(p=0.5)\n",
        "normalize = transforms.Normalize((0.0, 0.0, 0.0),(1.0, 1.0, 1.0))\n",
        "#平均値を0,標準偏差を1\n",
        "to_tensor = transforms.ToTensor()\n",
        "\n",
        "transform_train = transforms.Compose([affine, flip, to_tensor,normalize])\n",
        "transform_test = transforms.Compose([to_tensor, normalize])\n",
        "\n",
        "cifar10_train = CIFAR10( \"./data\",\n",
        "                train=True, download= True, transform= transform_train )\n",
        "cifar10_test = CIFAR10( \"./data\",\n",
        "                train=False, download= True, transform= transform_test )\n",
        "\n",
        "#setup DataLoader\n",
        "\n",
        "batch_size = 64\n",
        "train_loader = DataLoader(cifar10_train,\n",
        "                          batch_size = batch_size, shuffle=True)\n",
        "test_loader = DataLoader(cifar10_test,\n",
        "                         batch_size = batch_size, shuffle=False)"
      ]
    },
    {
      "cell_type": "code",
      "source": [
        "import torch.nn as nn\n",
        "\n",
        "class Net(nn.Module):\n",
        "  def __init__(self):\n",
        "    super().__init__()\n",
        "    self.conv1 = nn.Conv2d(3,8,5)  #Convolutional layer(入力チャンネル数,フィルター数,フィルターサイズ))\n",
        "    self.relu = nn.ReLU()\n",
        "    self.pool = nn.MaxPool2d(2,2) #pooling layer(領域のサイズ,領域の間隔)\n",
        "    self.conv2 = nn.Conv2d(8,16,5)\n",
        "    self.fc1 = nn.Linear(16*5*5, 256)\n",
        "    self.dropout = nn.Dropout(p=0.5)\n",
        "    self.fc2 = nn.Linear(256, 10)\n",
        "  def forward(self, x):\n",
        "    x = self.relu(self.conv1(x))\n",
        "    x= self.pool(x)\n",
        "    x=self.relu(self.conv2(x))\n",
        "    x=self.pool(x)\n",
        "    x = x.view(-1, 16*5*5)\n",
        "    x =self.relu(self.fc1(x))\n",
        "    x=self.dropout(x)\n",
        "    x=self.fc2(x)\n",
        "    return x\n",
        "net = Net()\n",
        "net.cuda()\n",
        "print(net)\n",
        "     \n",
        "\n"
      ],
      "metadata": {
        "colab": {
          "base_uri": "https://localhost:8080/"
        },
        "id": "-hGCzIh4Euyy",
        "outputId": "4c601ed6-ff2c-498d-edb6-fb98428ad9e2"
      },
      "execution_count": 15,
      "outputs": [
        {
          "output_type": "stream",
          "name": "stdout",
          "text": [
            "Net(\n",
            "  (conv1): Conv2d(3, 8, kernel_size=(5, 5), stride=(1, 1))\n",
            "  (relu): ReLU()\n",
            "  (pool): MaxPool2d(kernel_size=2, stride=2, padding=0, dilation=1, ceil_mode=False)\n",
            "  (conv2): Conv2d(8, 16, kernel_size=(5, 5), stride=(1, 1))\n",
            "  (fc1): Linear(in_features=400, out_features=256, bias=True)\n",
            "  (dropout): Dropout(p=0.5, inplace=False)\n",
            "  (fc2): Linear(in_features=256, out_features=10, bias=True)\n",
            ")\n"
          ]
        }
      ]
    },
    {
      "cell_type": "code",
      "source": [
        "from torch import optim\n",
        "loss_fnc = nn.CrossEntropyLoss()\n",
        "params = net.parameters()\n",
        "optimizer = optim.Adagrad(params, lr=0.01, lr_decay=0, weight_decay=0, initial_accumulator_value=0, eps=1e-10)\n",
        "\n",
        "record_loss_train=[]\n",
        "record_loss_test=[]\n",
        "\n",
        "for i in range(30):\n",
        "  net.train()\n",
        "  loss_train=0\n",
        "  for j,(x,t) in enumerate(train_loader):\n",
        "    x, t = x.cuda(),t.cuda()\n",
        "    y = net(x)\n",
        "    loss = loss_fnc(y,t)\n",
        "    loss_train += loss.item()\n",
        "    optimizer.zero_grad()\n",
        "    loss.backward()\n",
        "    optimizer.step()\n",
        "  loss_train /= j+1\n",
        "  record_loss_train.append(loss_train)\n",
        "\n",
        "  net.eval()\n",
        "  loss_test =0\n",
        "  for j,(x,t) in enumerate(test_loader):\n",
        "    x, t = x.cuda(),t.cuda()\n",
        "    y = net(x)\n",
        "    loss = loss_fnc(y,t)\n",
        "    loss_test += loss.item()\n",
        "  loss_test /= j+1\n",
        "  record_loss_test.append(loss_test)\n",
        "  \n",
        "  if i%1 ==0:\n",
        "    print(\"Epoch:\", i ,\"Loss_train:\", loss_train, \"Loss_test:\", loss_test)\n"
      ],
      "metadata": {
        "colab": {
          "base_uri": "https://localhost:8080/"
        },
        "id": "09JBuW_1I3Dj",
        "outputId": "833414ff-df5a-43a3-fc12-8e1288447db2"
      },
      "execution_count": 16,
      "outputs": [
        {
          "output_type": "stream",
          "name": "stdout",
          "text": [
            "Epoch: 0 Loss_train: 1.9089542420014092 Loss_test: 1.6738333702087402\n",
            "Epoch: 1 Loss_train: 1.6931853945297963 Loss_test: 1.5773871992803683\n",
            "Epoch: 2 Loss_train: 1.6168628850251512 Loss_test: 1.5229907757157732\n",
            "Epoch: 3 Loss_train: 1.58685852484325 Loss_test: 1.4860733033745153\n",
            "Epoch: 4 Loss_train: 1.559953541706895 Loss_test: 1.4451658406834693\n",
            "Epoch: 5 Loss_train: 1.545498290635131 Loss_test: 1.4998360758374452\n",
            "Epoch: 6 Loss_train: 1.5312152950050275 Loss_test: 1.4417046650200134\n",
            "Epoch: 7 Loss_train: 1.524440785350702 Loss_test: 1.4121611497964068\n",
            "Epoch: 8 Loss_train: 1.5042989747908415 Loss_test: 1.3972187991354876\n",
            "Epoch: 9 Loss_train: 1.4986025029436096 Loss_test: 1.387570974933114\n",
            "Epoch: 10 Loss_train: 1.4858249537170392 Loss_test: 1.385027889233486\n",
            "Epoch: 11 Loss_train: 1.4799070227176636 Loss_test: 1.388373407588643\n",
            "Epoch: 12 Loss_train: 1.4725097163254037 Loss_test: 1.359973013780679\n",
            "Epoch: 13 Loss_train: 1.4686161762918049 Loss_test: 1.3697821630793772\n",
            "Epoch: 14 Loss_train: 1.4646731134875657 Loss_test: 1.3484412181149623\n",
            "Epoch: 15 Loss_train: 1.456891146462287 Loss_test: 1.3390583711065305\n",
            "Epoch: 16 Loss_train: 1.4520666542870309 Loss_test: 1.3489614345465497\n",
            "Epoch: 17 Loss_train: 1.4435717303429723 Loss_test: 1.3256656816051264\n",
            "Epoch: 18 Loss_train: 1.4381461317277016 Loss_test: 1.3254425221947348\n",
            "Epoch: 19 Loss_train: 1.4334445124696893 Loss_test: 1.3133230308058914\n",
            "Epoch: 20 Loss_train: 1.4281213298782973 Loss_test: 1.311197501079292\n",
            "Epoch: 21 Loss_train: 1.4252410939587352 Loss_test: 1.3280927014958328\n",
            "Epoch: 22 Loss_train: 1.419675825044627 Loss_test: 1.3096770822622215\n",
            "Epoch: 23 Loss_train: 1.4190662164822259 Loss_test: 1.3117961078692393\n",
            "Epoch: 24 Loss_train: 1.4117806965432813 Loss_test: 1.293663998318326\n",
            "Epoch: 25 Loss_train: 1.4134708194781447 Loss_test: 1.3039234493188798\n",
            "Epoch: 26 Loss_train: 1.4090943673382634 Loss_test: 1.32377866878631\n",
            "Epoch: 27 Loss_train: 1.4041822351458129 Loss_test: 1.288362370934456\n",
            "Epoch: 28 Loss_train: 1.4009619693621955 Loss_test: 1.2920727278016935\n",
            "Epoch: 29 Loss_train: 1.3983909907700764 Loss_test: 1.285256628018276\n"
          ]
        }
      ]
    },
    {
      "cell_type": "code",
      "source": [
        "plt.plot(range(len(record_loss_train)), record_loss_train, label=\"Train\")\n",
        "plt.plot(range(len(record_loss_test)), record_loss_test, label=\"Test\")\n",
        "plt.legend()\n",
        "\n",
        "plt.xlabel(\"Epochs\")\n",
        "plt.ylabel(\"Error\")\n",
        "\n",
        "plt.show()"
      ],
      "metadata": {
        "colab": {
          "base_uri": "https://localhost:8080/",
          "height": 449
        },
        "id": "KzTWRPK1Ocbp",
        "outputId": "37fb35d5-9671-42e7-81c3-fb60526a5cc1"
      },
      "execution_count": 17,
      "outputs": [
        {
          "output_type": "display_data",
          "data": {
            "text/plain": [
              "<Figure size 640x480 with 1 Axes>"
            ],
            "image/png": "[encoded data removed]"
          },
          "metadata": {}
        }
      ]
    },
    {
      "cell_type": "code",
      "source": [
        "correct = 0\n",
        "total = 0\n",
        "net.eval()\n",
        "for i, (x,t) in enumerate(test_loader):\n",
        "  x,t = x.cuda(),t.cuda()\n",
        "  y = net(x)\n",
        "  correct += (y.argmax(1) ==t ).sum().item()\n",
        "  total += len(x)\n",
        "print(\"correct rate:\", str(correct/total *100) +\"%\")"
      ],
      "metadata": {
        "colab": {
          "base_uri": "https://localhost:8080/"
        },
        "id": "mdKQLDuLQ23q",
        "outputId": "63981a34-c3b8-438d-929c-c4613439d5ea"
      },
      "execution_count": 18,
      "outputs": [
        {
          "output_type": "stream",
          "name": "stdout",
          "text": [
            "correct rate: 53.449999999999996%\n"
          ]
        }
      ]
    },
    {
      "cell_type": "code",
      "source": [
        "cifar10_loader = DataLoader(cifar10_test,\n",
        "                            batch_size=1, shuffle=True)\n",
        "dataiter = iter(cifar10_loader)\n",
        "images, labels = dataiter.__next__()\n",
        "\n",
        "plt.imshow(images[0].permute(1,2,0))\n",
        "plt.tick_params(labelbottom=False, labelleft=False, bottom=False, left=False)#undisplay label and memory\n",
        "plt.show()\n",
        "\n",
        "net.eval\n",
        "x, t = images.cuda(), labels.cuda()\n",
        "y = net(x)\n",
        "print(\"right answer:\", cifar10_classes[labels[0]], \"prediction:\", cifar10_classes[y.argmax().item()])"
      ],
      "metadata": {
        "colab": {
          "base_uri": "https://localhost:8080/",
          "height": 423
        },
        "id": "_YnVIgABRNoo",
        "outputId": "9295e0e2-b948-4229-ea2e-d96e9d81743e"
      },
      "execution_count": 24,
      "outputs": [
        {
          "output_type": "display_data",
          "data": {
            "text/plain": [
              "<Figure size 640x480 with 1 Axes>"
            ],
            "image/png": "[encoded data removed]"
          },
          "metadata": {}
        },
        {
          "output_type": "stream",
          "name": "stdout",
          "text": [
            "right answer: cat prediction: cat\n"
          ]
        }
      ]
    },
    {
      "cell_type": "code",
      "source": [],
      "metadata": {
        "id": "EKES2cYTVR76"
      },
      "execution_count": null,
      "outputs": []
    }
  ]
}