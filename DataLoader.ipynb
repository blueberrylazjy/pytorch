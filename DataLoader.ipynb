{
  "nbformat": 4,
  "nbformat_minor": 0,
  "metadata": {
    "colab": {
      "provenance": [],
      "gpuType": "T4",
      "authorship_tag": "ABX9TyO5+rToA4oqJaFccohV4lPn",
      "include_colab_link": true
    },
    "kernelspec": {
      "name": "python3",
      "display_name": "Python 3"
    },
    "language_info": {
      "name": "python"
    },
    "accelerator": "GPU",
    "gpuClass": "standard"
  },
  "cells": [
    {
      "cell_type": "markdown",
      "metadata": {
        "id": "view-in-github",
        "colab_type": "text"
      },
      "source": [
        "<a href=\"https://colab.research.google.com/github/blueberrylazjy/pytorch/blob/main/DataLoader.ipynb\" target=\"_parent\"><img src=\"https://colab.research.google.com/assets/colab-badge.svg\" alt=\"Open In Colab\"/></a>"
      ]
    },
    {
      "cell_type": "code",
      "execution_count": 20,
      "metadata": {
        "colab": {
          "base_uri": "https://localhost:8080/"
        },
        "id": "V-V0updghbIe",
        "outputId": "b852049d-0c37-43c9-9501-802c3e21acf3"
      },
      "outputs": [
        {
          "output_type": "stream",
          "name": "stdout",
          "text": [
            "訓練データの数: 60000 テストデータの数: 10000\n"
          ]
        }
      ],
      "source": [
        "from torchvision.datasets import MNIST\n",
        "from torchvision import transforms\n",
        "\n",
        "img_size=28 \n",
        "\n",
        "mnist_train = MNIST(\"./data\", train=True, download=True, transform=transforms.ToTensor())\n",
        "mnist_test = MNIST(\"./data\", train=False, download=True, transform=transforms.ToTensor())\n",
        "                                                                              #transfer to Tensor\n",
        "print(\"訓練データの数:\", len(mnist_train),\"テストデータの数:\", len(mnist_test))"
      ]
    },
    {
      "cell_type": "code",
      "source": [
        "from torch.utils.data import DataLoader\n",
        "\n",
        "#set up DataLoad\n",
        "\n",
        "batch_size=256 #set up batchsize\n",
        "train_loader = DataLoader(mnist_train,\n",
        "                          batch_size=batch_size,\n",
        "                          shuffle=True)\n",
        "print(train_loader)\n",
        "                          #データをシャッフルしてミニバッチを取り出すかどうか設定する\n",
        "                          #。訓練データにはTrue、テストデータにはFalse\n",
        "test_loader = DataLoader(mnist_train,\n",
        "                          batch_size=batch_size,\n",
        "                          shuffle=False)"
      ],
      "metadata": {
        "id": "5dDst16ZjCKX",
        "colab": {
          "base_uri": "https://localhost:8080/"
        },
        "outputId": "dc48740f-509b-44e2-f9a8-c2348de23c6b"
      },
      "execution_count": 21,
      "outputs": [
        {
          "output_type": "stream",
          "name": "stdout",
          "text": [
            "<torch.utils.data.dataloader.DataLoader object at 0x7f5bc5109c60>\n"
          ]
        }
      ]
    },
    {
      "cell_type": "code",
      "source": [
        "import torch.nn as nn\n",
        "class Net(nn.Module):\n",
        "  def __init__(self):\n",
        "    super().__init__()\n",
        "    self.fc1 =nn.Linear(img_size*img_size, 1024)\n",
        "    #全結合層\n",
        "    self.fc2=nn.Linear(1024, 512)\n",
        "    self.fc3=nn.Linear(512,10)\n",
        "    self.relu=nn.ReLU()\n",
        "  def forward(self,x):\n",
        "    x = x.view(-1, img_size*img_size)\n",
        "    #（バッチサイズ，入力の数）：画像を1次元に変換（view(-1)）\n",
        "    x=self.relu(self.fc1(x))\n",
        "    x=self.relu(self.fc2(x))\n",
        "    x=self.fc3(x)\n",
        "    return x\n",
        "\n",
        "net = Net()\n",
        "net.cuda() #use GPU\n",
        "print(net)\n"
      ],
      "metadata": {
        "colab": {
          "base_uri": "https://localhost:8080/"
        },
        "id": "JRytDsszk5n2",
        "outputId": "dbfa3c3d-8021-4851-e801-73cef7f3724b"
      },
      "execution_count": 22,
      "outputs": [
        {
          "output_type": "stream",
          "name": "stdout",
          "text": [
            "Net(\n",
            "  (fc1): Linear(in_features=784, out_features=1024, bias=True)\n",
            "  (fc2): Linear(in_features=1024, out_features=512, bias=True)\n",
            "  (fc3): Linear(in_features=512, out_features=10, bias=True)\n",
            "  (relu): ReLU()\n",
            ")\n"
          ]
        }
      ]
    },
    {
      "cell_type": "code",
      "source": [
        "from torch import optim\n",
        "\n",
        "loss_fnc = nn.CrossEntropyLoss()\n",
        "\n",
        "#SGD\n",
        "optimizer = optim.SGD(net.parameters(), lr=0.01)\n",
        "\n",
        "record_loss_train=[]\n",
        "record_loss_test=[]\n",
        "\n",
        "for i in range(10):\n",
        "  net.train() #training mode\n",
        "  loss_train = 0\n",
        "  for j, (x,g) in enumerate(train_loader):\n",
        "    #take out mini batch\n",
        "    x,g=x.cuda(), g.cuda() # use GPU\n",
        "    y=net(x)\n",
        "    loss = loss_fnc(y,g)\n",
        "    loss_train += loss.item()\n",
        "    optimizer.zero_grad()\n",
        "    loss.backward()\n",
        "    optimizer.step()\n",
        "  loss_train /= j+1\n",
        "  record_loss_train.append(loss_train)\n",
        "\n",
        "  net.eval #evaluating mode\n",
        "  loss_test = 0\n",
        "  for j,(x,t) in enumerate(test_loader):\n",
        "    x, t = x.cuda(), t.cuda()\n",
        "    y = net(x)\n",
        "    loss =loss_fnc(y,t)\n",
        "    loss_test += loss.item()\n",
        "  loss_test /= j+1\n",
        "  record_loss_test.append(loss_test)\n",
        "\n",
        "  if i%1 ==0:\n",
        "    print(\"Epoch:\", i, \"Loss_train:\", loss_train, \"Loss_test:\", loss_test)\n"
      ],
      "metadata": {
        "colab": {
          "base_uri": "https://localhost:8080/"
        },
        "id": "2B7mxQ4Ma7ZE",
        "outputId": "849d782c-e880-4c2f-978f-2f0f57f006db"
      },
      "execution_count": 26,
      "outputs": [
        {
          "output_type": "stream",
          "name": "stdout",
          "text": [
            "Epoch: 0 Loss_train: 0.7378931991597439 Loss_test: 0.6337980706641014\n",
            "Epoch: 1 Loss_train: 0.5727866626800375 Loss_test: 0.5221386797250586\n",
            "Epoch: 2 Loss_train: 0.4888368585008256 Loss_test: 0.4599152682943547\n",
            "Epoch: 3 Loss_train: 0.4391482729861077 Loss_test: 0.42077387679130474\n",
            "Epoch: 4 Loss_train: 0.406534913626123 Loss_test: 0.39447675372691865\n",
            "Epoch: 5 Loss_train: 0.38303145106802594 Loss_test: 0.37277958529426697\n",
            "Epoch: 6 Loss_train: 0.3651946360760547 Loss_test: 0.3577494816577181\n",
            "Epoch: 7 Loss_train: 0.3507736131865927 Loss_test: 0.34409240249623646\n",
            "Epoch: 8 Loss_train: 0.33865877966931524 Loss_test: 0.33292531624753424\n",
            "Epoch: 9 Loss_train: 0.3281942990866113 Loss_test: 0.32368010152527626\n"
          ]
        }
      ]
    },
    {
      "cell_type": "code",
      "source": [
        "import matplotlib.pyplot as plt\n",
        "plt.plot(range(len(record_loss_train)), record_loss_train, label=\"Train\")\n",
        "plt.plot(range(len(record_loss_test)), record_loss_test, label=\"Test\")\n",
        "plt.legend()\n",
        "\n",
        "plt.xlabel(\"Epochs\")\n",
        "plt.ylabel(\"Error\")\n",
        "\n",
        "plt.show()\n",
        "\n"
      ],
      "metadata": {
        "colab": {
          "base_uri": "https://localhost:8080/",
          "height": 449
        },
        "id": "h4nT3ophdjCE",
        "outputId": "f1cc2238-ad56-49f1-f6d5-6ae0a76d7e56"
      },
      "execution_count": 27,
      "outputs": [
        {
          "output_type": "display_data",
          "data": {
            "text/plain": [
              "<Figure size 640x480 with 1 Axes>"
            ],
            "image/png": "[encoded data removed]"
          },
          "metadata": {}
        }
      ]
    }
  ]
}